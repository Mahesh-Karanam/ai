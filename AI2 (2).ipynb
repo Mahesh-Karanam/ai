{
  "nbformat": 4,
  "nbformat_minor": 0,
  "metadata": {
    "colab": {
      "provenance": []
    },
    "kernelspec": {
      "name": "python3",
      "display_name": "Python 3"
    },
    "language_info": {
      "name": "python"
    }
  },
  "cells": [
    {
      "cell_type": "code",
      "source": [
        "def bfs(graph, start):\n",
        "    open_list =[start]\n",
        "    closed_list = set()\n",
        "    print(list(open_list),'\\t',list(closed_list))\n",
        "    while open_list:\n",
        "        current_node = open_list.pop(0)\n",
        "        if current_node not in closed_list:\n",
        "            #print(list(closed_list))\n",
        "            closed_list.add(current_node)\n",
        "            for neighbor in graph[current_node]:\n",
        "                if neighbor not in closed_list and neighbor not in open_list:\n",
        "                    open_list.append(neighbor)\n",
        "        print(list(open_list),'\\t',list(closed_list))\n",
        "graph = {\n",
        "    'A': ['B', 'C'],\n",
        "    'B': ['A', 'D', 'E'],\n",
        "    'C': ['A', 'F'],\n",
        "    'D': ['B'],\n",
        "    'E': ['B', 'F'],\n",
        "    'F': ['C', 'E']\n",
        "}\n",
        "\n",
        "start_node = 'A'\n",
        "bfs(graph, start_node)\n"
      ],
      "metadata": {
        "colab": {
          "base_uri": "https://localhost:8080/"
        },
        "id": "XqHqfcF9o7o_",
        "outputId": "b124fc3d-4038-463a-e23a-9522d61d63ee"
      },
      "execution_count": null,
      "outputs": [
        {
          "output_type": "stream",
          "name": "stdout",
          "text": [
            "['A'] \t []\n",
            "['B', 'C'] \t ['A']\n",
            "['C', 'D', 'E'] \t ['A', 'B']\n",
            "['D', 'E', 'F'] \t ['A', 'B', 'C']\n",
            "['E', 'F'] \t ['A', 'B', 'D', 'C']\n",
            "['F'] \t ['B', 'D', 'E', 'A', 'C']\n",
            "[] \t ['F', 'B', 'D', 'E', 'A', 'C']\n"
          ]
        }
      ]
    },
    {
      "cell_type": "code",
      "source": [
        "def dfs(graph, start):\n",
        "    open_list =[start]\n",
        "    closed_list = set()\n",
        "    print(list(open_list),'\\t',list(closed_list))\n",
        "    while open_list:\n",
        "        current_node = open_list.pop()\n",
        "        if current_node not in closed_list:\n",
        "            #print(list(closed_list))\n",
        "            closed_list.add(current_node)\n",
        "            for neighbor in graph[current_node]:\n",
        "                if neighbor not in closed_list and neighbor not in open_list:\n",
        "                    open_list.append(neighbor)\n",
        "        print(list(open_list),'\\t',list(closed_list))\n",
        "graph = {\n",
        "    'A': ['B', 'C'],\n",
        "    'B': ['A', 'D', 'E'],\n",
        "    'C': ['A', 'F'],\n",
        "    'D': ['B'],\n",
        "    'E': ['B', 'F'],\n",
        "    'F': ['C', 'E']\n",
        "}\n",
        "\n",
        "start_node = 'A'\n",
        "dfs(graph, start_node)\n"
      ],
      "metadata": {
        "colab": {
          "base_uri": "https://localhost:8080/"
        },
        "id": "ceZ7reLtqy2z",
        "outputId": "89b270f5-fdee-4433-e71b-e311c5269667"
      },
      "execution_count": null,
      "outputs": [
        {
          "output_type": "stream",
          "name": "stdout",
          "text": [
            "['A'] \t []\n",
            "['B', 'C'] \t ['A']\n",
            "['B', 'F'] \t ['A', 'C']\n",
            "['B', 'E'] \t ['F', 'A', 'C']\n",
            "['B'] \t ['F', 'A', 'E', 'C']\n",
            "['D'] \t ['F', 'B', 'E', 'A', 'C']\n",
            "[] \t ['F', 'B', 'E', 'D', 'A', 'C']\n"
          ]
        }
      ]
    },
    {
      "cell_type": "code",
      "source": [
        "import heapq\n",
        "\n",
        "def ucs(graph, start):\n",
        "    open_list = [(0, start)]\n",
        "    closed_list = set()\n",
        "    print(open_list,'\\t',list(closed_list))\n",
        "    while open_list:\n",
        "        cost, current_node = heapq.heappop(open_list)\n",
        "        if current_node not in closed_list:\n",
        "            closed_list.add(current_node)\n",
        "            for neighbor, edge_cost in graph[current_node].items():\n",
        "                if neighbor not in closed_list and (edge_cost,neighbor) not in open_list:\n",
        "                    heapq.heappush(open_list, (cost + edge_cost, neighbor))\n",
        "        print(open_list,'\\t',list(closed_list))\n",
        "\n",
        "# Example adjacency list graph with weighted edges\n",
        "graph = {\n",
        "    'A': {'B': 1, 'C': 4},\n",
        "    'B': {'A': 1, 'D': 2, 'E': 5},\n",
        "    'C': {'A': 4, 'F': 3},\n",
        "    'D': {'B': 2},\n",
        "    'E': {'B': 5, 'F': 6},\n",
        "    'F': {'C': 3, 'E': 6}\n",
        "}\n",
        "\n",
        "start_node = 'A'\n",
        "ucs(graph, start_node)\n"
      ],
      "metadata": {
        "colab": {
          "base_uri": "https://localhost:8080/"
        },
        "id": "8bKrlSSGt5Ub",
        "outputId": "f4ab030d-61e8-4bae-fec7-222e572935d4"
      },
      "execution_count": null,
      "outputs": [
        {
          "output_type": "stream",
          "name": "stdout",
          "text": [
            "[(0, 'A')] \t []\n",
            "[(1, 'B'), (4, 'C')] \t ['A']\n",
            "[(3, 'D'), (4, 'C'), (6, 'E')] \t ['A', 'B']\n",
            "[(4, 'C'), (6, 'E')] \t ['A', 'B', 'D']\n",
            "[(6, 'E'), (7, 'F')] \t ['A', 'B', 'D', 'C']\n",
            "[(7, 'F'), (12, 'F')] \t ['B', 'D', 'E', 'A', 'C']\n",
            "[(12, 'F')] \t ['F', 'B', 'D', 'E', 'A', 'C']\n",
            "[] \t ['F', 'B', 'D', 'E', 'A', 'C']\n"
          ]
        }
      ]
    },
    {
      "cell_type": "code",
      "source": [
        "def iddfs(graph, start, goal):\n",
        "    depth = 0\n",
        "    while True:\n",
        "        print(\"Depth Limit:\", depth)\n",
        "        open_list = [start]\n",
        "        closed_list = set()\n",
        "        result = dls(graph, start, goal, depth, open_list, closed_list)\n",
        "        if result is not None:\n",
        "            return result\n",
        "        depth += 1\n",
        "\n",
        "def dls(graph, node, goal, depth_limit, open_list, closed_list):\n",
        "    if node == goal:\n",
        "        print(open_list,'\\t',list(closed_list))\n",
        "        return node\n",
        "    if depth_limit <= 0:\n",
        "        print(open_list,'\\t',list(closed_list))\n",
        "        return None\n",
        "    if depth_limit > 0:\n",
        "        for neighbor in graph[node]:\n",
        "            if neighbor not in closed_list and not in open_list:\n",
        "                open_list.append(neighbor)\n",
        "                result = dls(graph, neighbor, goal, depth_limit - 1, open_list, closed_list)\n",
        "                if result is not None:\n",
        "                    return result\n",
        "                open_list.pop()\n",
        "                closed_list.add(neighbor)\n",
        "        print(open_list,'\\t',list(closed_list))\n",
        "        return None\n",
        "\n",
        "graph = {\n",
        "    'A': ['B', 'C'],\n",
        "    'B': ['D', 'E'],\n",
        "    'C': ['F'],\n",
        "    'D': [],\n",
        "    'E': [],\n",
        "    'F': []\n",
        "}\n",
        "\n",
        "start_node = 'A'\n",
        "goal_node = 'F'\n",
        "iddfs(graph, start_node, goal_node)\n"
      ],
      "metadata": {
        "colab": {
          "base_uri": "https://localhost:8080/",
          "height": 226
        },
        "id": "juUmuBd40AZQ",
        "outputId": "83e63a1e-1952-4652-e11d-2892117eddf1"
      },
      "execution_count": null,
      "outputs": [
        {
          "output_type": "stream",
          "name": "stdout",
          "text": [
            "Depth Limit: 0\n",
            "['A'] \t []\n",
            "Depth Limit: 1\n",
            "['A', 'B'] \t []\n",
            "['A', 'C'] \t ['B']\n",
            "['A'] \t ['B', 'C']\n",
            "Depth Limit: 2\n",
            "['A', 'B', 'D'] \t []\n",
            "['A', 'B', 'E'] \t ['D']\n",
            "['A', 'B'] \t ['E', 'D']\n",
            "['A', 'C', 'F'] \t ['B', 'E', 'D']\n"
          ]
        },
        {
          "output_type": "execute_result",
          "data": {
            "text/plain": [
              "'F'"
            ],
            "application/vnd.google.colaboratory.intrinsic+json": {
              "type": "string"
            }
          },
          "metadata": {},
          "execution_count": 28
        }
      ]
    },
    {
      "cell_type": "code",
      "source": [
        "#WATER JUG USING BFS\n",
        "# Function to pour water from one jug to another\n",
        "def pour(jug, max_jug, target_jug):\n",
        "    return max(0, jug - (max_jug - target_jug)), min(jug + target_jug, max_jug)\n",
        "def valid_states(states,jug1_capacity,jug2_capacity):\n",
        "  return [i for i in states if i[0]<= jug1_capacity and i[1] <= jug2_capacity]\n",
        "# Function to perform BFS\n",
        "def bfs(start, target, max_jug1, max_jug2):\n",
        "    open_list = [start]\n",
        "    closed_list = set()\n",
        "    print(open_list,'\\t',list(closed_list))\n",
        "    while open_list:\n",
        "        current_state = open_list.pop(0)\n",
        "        jug1, jug2 = current_state\n",
        "        if current_state == target:\n",
        "            print(\"Target reached!\")\n",
        "            return\n",
        "\n",
        "        closed_list.add(current_state)\n",
        "\n",
        "        # Generate all possible states from the current state\n",
        "        next_states = [\n",
        "            pour(jug1, max_jug1, jug2),  # Pour from jug 1 to jug 2\n",
        "            pour(jug2, max_jug2, jug1),  # Pour from jug 2 to jug 1\n",
        "            (max_jug1, jug2),            # Fill jug 1\n",
        "            (jug1, max_jug2),            # Fill jug 2\n",
        "            (0, jug2),                   # Empty jug 1\n",
        "            (jug1, 0)                    # Empty jug 2\n",
        "        ]\n",
        "        next_states=valid_states(next_states,max_jug1,max_jug2)\n",
        "        # Add next states to open list if they are valid and not visited yet\n",
        "        for state in list(set(next_states)):\n",
        "            if state not in closed_list:\n",
        "                open_list.append(state)\n",
        "        print(open_list,'\\t',list(closed_list))\n",
        "\n",
        "# Example\n",
        "start_state = (0, 0)  # Initial state of both jugs (jug1, jug2)\n",
        "target_state = (3, 0)  # Target state (jug1, jug2)\n",
        "max_jug1 = 5  # Maximum capacity of jug 1\n",
        "max_jug2 = 3  # Maximum capacity of jug 2\n",
        "\n",
        "bfs(start_state, target_state, max_jug1, max_jug2)\n"
      ],
      "metadata": {
        "colab": {
          "base_uri": "https://localhost:8080/"
        },
        "id": "oyTwYFTSCzwA",
        "outputId": "8c80bf69-5218-40cb-a85c-841953ab54dd"
      },
      "execution_count": 43,
      "outputs": [
        {
          "output_type": "stream",
          "name": "stdout",
          "text": [
            "[(0, 0)] \t []\n",
            "[(0, 3), (5, 0)] \t [(0, 0)]\n",
            "[(5, 0), (5, 3)] \t [(0, 3), (0, 0)]\n",
            "[(5, 3), (2, 3), (5, 3)] \t [(0, 3), (5, 0), (0, 0)]\n",
            "[(2, 3), (5, 3)] \t [(5, 3), (0, 3), (5, 0), (0, 0)]\n",
            "[(5, 3), (2, 0)] \t [(0, 0), (0, 3), (2, 3), (5, 0), (5, 3)]\n",
            "[(2, 0)] \t [(0, 0), (0, 3), (2, 3), (5, 0), (5, 3)]\n",
            "[(0, 2)] \t [(0, 0), (0, 3), (2, 0), (2, 3), (5, 0), (5, 3)]\n",
            "[(5, 2)] \t [(0, 0), (0, 3), (2, 0), (2, 3), (0, 2), (5, 0), (5, 3)]\n",
            "[(4, 3)] \t [(0, 0), (0, 3), (2, 0), (2, 3), (0, 2), (5, 0), (5, 3), (5, 2)]\n",
            "[(4, 0)] \t [(0, 0), (4, 3), (0, 3), (2, 0), (2, 3), (0, 2), (5, 0), (5, 3), (5, 2)]\n",
            "[(1, 3)] \t [(4, 0), (0, 0), (4, 3), (0, 3), (2, 0), (2, 3), (0, 2), (5, 0), (5, 3), (5, 2)]\n",
            "[(1, 0)] \t [(4, 0), (0, 0), (4, 3), (0, 3), (2, 0), (2, 3), (0, 2), (5, 0), (5, 3), (1, 3), (5, 2)]\n",
            "[(0, 1)] \t [(4, 0), (0, 0), (4, 3), (0, 3), (2, 0), (2, 3), (1, 0), (0, 2), (5, 0), (5, 3), (1, 3), (5, 2)]\n",
            "[(5, 1)] \t [(0, 1), (4, 0), (0, 0), (4, 3), (0, 3), (2, 0), (2, 3), (1, 0), (0, 2), (5, 0), (5, 3), (1, 3), (5, 2)]\n",
            "[(3, 3)] \t [(0, 1), (4, 0), (0, 0), (4, 3), (0, 3), (2, 0), (5, 1), (2, 3), (1, 0), (0, 2), (5, 0), (5, 3), (1, 3), (5, 2)]\n",
            "[(3, 0)] \t [(0, 1), (4, 0), (0, 0), (4, 3), (0, 3), (2, 0), (5, 1), (2, 3), (1, 0), (0, 2), (3, 3), (5, 0), (5, 3), (1, 3), (5, 2)]\n",
            "Target reached!\n"
          ]
        }
      ]
    },
    {
      "cell_type": "code",
      "source": [
        "#WATER JUG USING DFS\n",
        "# Function to pour water from one jug to another\n",
        "def pour(jug, max_jug, target_jug):\n",
        "    return max(0, jug - (max_jug - target_jug)), min(jug + target_jug, max_jug)\n",
        "def valid_states(states,jug1_capacity,jug2_capacity):\n",
        "  return [i for i in states if i[0]<= jug1_capacity and i[1] <= jug2_capacity]\n",
        "# Function to perform BFS\n",
        "def dfs(start, target, max_jug1, max_jug2):\n",
        "    open_list = [start]\n",
        "    closed_list = set()\n",
        "    print(open_list,'\\t',list(closed_list))\n",
        "    while open_list:\n",
        "        current_state = open_list.pop()\n",
        "\n",
        "        jug1, jug2 = current_state\n",
        "\n",
        "        if current_state == target:\n",
        "            print(\"Target reached!\")\n",
        "            return\n",
        "\n",
        "        closed_list.add(current_state)\n",
        "\n",
        "        # Generate all possible states from the current state\n",
        "        next_states = [\n",
        "            pour(jug1, max_jug1, jug2),  # Pour from jug 1 to jug 2\n",
        "            pour(jug2, max_jug2, jug1),  # Pour from jug 2 to jug 1\n",
        "            (max_jug1, jug2),            # Fill jug 1\n",
        "            (jug1, max_jug2),            # Fill jug 2\n",
        "            (0, jug2),                   # Empty jug 1\n",
        "            (jug1, 0)                    # Empty jug 2\n",
        "        ]\n",
        "        next_states=valid_states(next_states,max_jug1,max_jug2)\n",
        "        # Add next states to open list if they are valid and not visited yet\n",
        "        for state in list(set(next_states)):\n",
        "            if state not in closed_list:\n",
        "                open_list.append(state)\n",
        "        print(open_list,'\\t',list(closed_list))\n",
        "\n",
        "# Example\n",
        "start_state = (0, 0)  # Initial state of both jugs (jug1, jug2)\n",
        "target_state = (3, 0)  # Target state (jug1, jug2)\n",
        "max_jug1 = 5  # Maximum capacity of jug 1\n",
        "max_jug2 = 3  # Maximum capacity of jug 2\n",
        "\n",
        "dfs(start_state, target_state, max_jug1, max_jug2)\n"
      ],
      "metadata": {
        "colab": {
          "base_uri": "https://localhost:8080/"
        },
        "id": "5SCFreCvIiiQ",
        "outputId": "b34f1892-1bca-4058-d735-b8cf54213563"
      },
      "execution_count": 44,
      "outputs": [
        {
          "output_type": "stream",
          "name": "stdout",
          "text": [
            "[(0, 0)] \t []\n",
            "[(0, 3), (5, 0)] \t [(0, 0)]\n",
            "[(0, 3), (2, 3), (5, 3)] \t [(5, 0), (0, 0)]\n",
            "[(0, 3), (2, 3), (0, 3)] \t [(5, 3), (5, 0), (0, 0)]\n",
            "[(0, 3), (2, 3)] \t [(5, 3), (0, 3), (5, 0), (0, 0)]\n",
            "[(0, 3), (2, 0)] \t [(0, 0), (0, 3), (2, 3), (5, 0), (5, 3)]\n",
            "[(0, 3), (0, 2)] \t [(0, 0), (0, 3), (2, 0), (2, 3), (5, 0), (5, 3)]\n",
            "[(0, 3), (5, 2)] \t [(0, 0), (0, 3), (2, 0), (2, 3), (0, 2), (5, 0), (5, 3)]\n",
            "[(0, 3), (4, 3)] \t [(0, 0), (0, 3), (2, 0), (2, 3), (0, 2), (5, 0), (5, 3), (5, 2)]\n",
            "[(0, 3), (4, 0)] \t [(0, 0), (4, 3), (0, 3), (2, 0), (2, 3), (0, 2), (5, 0), (5, 3), (5, 2)]\n",
            "[(0, 3), (1, 3)] \t [(4, 0), (0, 0), (4, 3), (0, 3), (2, 0), (2, 3), (0, 2), (5, 0), (5, 3), (5, 2)]\n",
            "[(0, 3), (1, 0)] \t [(4, 0), (0, 0), (4, 3), (0, 3), (2, 0), (2, 3), (0, 2), (5, 0), (5, 3), (1, 3), (5, 2)]\n",
            "[(0, 3), (0, 1)] \t [(4, 0), (0, 0), (4, 3), (0, 3), (2, 0), (2, 3), (1, 0), (0, 2), (5, 0), (5, 3), (1, 3), (5, 2)]\n",
            "[(0, 3), (5, 1)] \t [(0, 1), (4, 0), (0, 0), (4, 3), (0, 3), (2, 0), (2, 3), (1, 0), (0, 2), (5, 0), (5, 3), (1, 3), (5, 2)]\n",
            "[(0, 3), (3, 3)] \t [(0, 1), (4, 0), (0, 0), (4, 3), (0, 3), (2, 0), (5, 1), (2, 3), (1, 0), (0, 2), (5, 0), (5, 3), (1, 3), (5, 2)]\n",
            "[(0, 3), (3, 0)] \t [(0, 1), (4, 0), (0, 0), (4, 3), (0, 3), (2, 0), (5, 1), (2, 3), (1, 0), (0, 2), (3, 3), (5, 0), (5, 3), (1, 3), (5, 2)]\n",
            "Target reached!\n"
          ]
        }
      ]
    },
    {
      "cell_type": "code",
      "source": [
        "# Function to check if a state is valid\n",
        "def is_valid(state):\n",
        "    m, c, b = state\n",
        "    if m < 0 or c < 0 or m > 3 or c > 3 or (c > m and m > 0) or (c < m and m < 3):\n",
        "        return False\n",
        "    return True\n",
        "\n",
        "# Function to check if a state is already visited\n",
        "def is_visited(state, closed_list):\n",
        "    return state in closed_list\n",
        "\n",
        "# Function to perform BFS\n",
        "def bfs(start, goal):\n",
        "    open_list = [start]\n",
        "    closed_list = set()\n",
        "    print(list(open_list),\"\\t\",list(closed_list))\n",
        "    while open_list:\n",
        "        current_state = open_list.pop(0)\n",
        "\n",
        "\n",
        "        m, c, b = current_state\n",
        "\n",
        "        if current_state == goal:\n",
        "            print(\"Target reached!\")\n",
        "            return\n",
        "\n",
        "        closed_list.add(current_state)\n",
        "\n",
        "        # Generate all possible next states from the current state\n",
        "        next_states = []\n",
        "        for i in range(2):\n",
        "            for j in range(3):\n",
        "                if b == 1:\n",
        "                    next_state = (m - i, c - j, 0)\n",
        "                else:\n",
        "                    next_state = (m + i, c + j, 1)\n",
        "                if is_valid(next_state):\n",
        "                    next_states.append(next_state)\n",
        "\n",
        "        # Add next states to open list if they are valid and not visited yet\n",
        "        for state in next_states:\n",
        "            if not is_visited(state, closed_list):\n",
        "                open_list.append(state)\n",
        "        print(list(open_list),\"\\t\",list(closed_list))\n",
        "\n",
        "# Example\n",
        "start_state = (3, 3, 1)  # Initial state (missionaries, cannibals, boat)\n",
        "goal_state = (0, 0, 0)   # Goal state (missionaries, cannibals, boat)\n",
        "\n",
        "bfs(start_state, goal_state)\n"
      ],
      "metadata": {
        "colab": {
          "base_uri": "https://localhost:8080/"
        },
        "id": "XwtsSPq7OexQ",
        "outputId": "c2ae855a-7770-48f5-8d4b-095ea62c628b"
      },
      "execution_count": 48,
      "outputs": [
        {
          "output_type": "stream",
          "name": "stdout",
          "text": [
            "[(3, 3, 1)] \t []\n",
            "[(3, 3, 0), (3, 2, 0), (3, 1, 0), (2, 2, 0)] \t [(3, 3, 1)]\n",
            "[(3, 2, 0), (3, 1, 0), (2, 2, 0)] \t [(3, 3, 0), (3, 3, 1)]\n",
            "[(3, 1, 0), (2, 2, 0), (3, 2, 1)] \t [(3, 3, 0), (3, 3, 1), (3, 2, 0)]\n",
            "[(2, 2, 0), (3, 2, 1), (3, 1, 1), (3, 2, 1)] \t [(3, 3, 0), (3, 3, 1), (3, 1, 0), (3, 2, 0)]\n",
            "[(3, 2, 1), (3, 1, 1), (3, 2, 1), (2, 2, 1), (3, 2, 1)] \t [(3, 3, 1), (3, 1, 0), (3, 3, 0), (2, 2, 0), (3, 2, 0)]\n",
            "[(3, 1, 1), (3, 2, 1), (2, 2, 1), (3, 2, 1), (3, 0, 0)] \t [(3, 3, 1), (3, 1, 0), (3, 3, 0), (3, 2, 1), (2, 2, 0), (3, 2, 0)]\n",
            "[(3, 2, 1), (2, 2, 1), (3, 2, 1), (3, 0, 0), (3, 0, 0)] \t [(3, 3, 1), (3, 1, 0), (3, 3, 0), (3, 2, 1), (2, 2, 0), (3, 1, 1), (3, 2, 0)]\n",
            "[(2, 2, 1), (3, 2, 1), (3, 0, 0), (3, 0, 0), (3, 0, 0)] \t [(3, 3, 1), (3, 1, 0), (3, 3, 0), (3, 2, 1), (2, 2, 0), (3, 1, 1), (3, 2, 0)]\n",
            "[(3, 2, 1), (3, 0, 0), (3, 0, 0), (3, 0, 0), (1, 1, 0)] \t [(3, 3, 1), (3, 1, 0), (3, 3, 0), (3, 2, 1), (2, 2, 1), (2, 2, 0), (3, 1, 1), (3, 2, 0)]\n",
            "[(3, 0, 0), (3, 0, 0), (3, 0, 0), (1, 1, 0), (3, 0, 0)] \t [(3, 3, 1), (3, 1, 0), (3, 3, 0), (3, 2, 1), (2, 2, 1), (2, 2, 0), (3, 1, 1), (3, 2, 0)]\n",
            "[(3, 0, 0), (3, 0, 0), (1, 1, 0), (3, 0, 0), (3, 0, 1)] \t [(3, 3, 1), (3, 0, 0), (3, 1, 0), (3, 3, 0), (3, 2, 1), (2, 2, 1), (2, 2, 0), (3, 1, 1), (3, 2, 0)]\n",
            "[(3, 0, 0), (1, 1, 0), (3, 0, 0), (3, 0, 1), (3, 0, 1)] \t [(3, 3, 1), (3, 0, 0), (3, 1, 0), (3, 3, 0), (3, 2, 1), (2, 2, 1), (2, 2, 0), (3, 1, 1), (3, 2, 0)]\n",
            "[(1, 1, 0), (3, 0, 0), (3, 0, 1), (3, 0, 1), (3, 0, 1)] \t [(3, 3, 1), (3, 0, 0), (3, 1, 0), (3, 3, 0), (3, 2, 1), (2, 2, 1), (2, 2, 0), (3, 1, 1), (3, 2, 0)]\n",
            "[(3, 0, 0), (3, 0, 1), (3, 0, 1), (3, 0, 1), (1, 1, 1)] \t [(3, 3, 1), (1, 1, 0), (3, 0, 0), (3, 1, 0), (3, 3, 0), (3, 2, 1), (2, 2, 1), (2, 2, 0), (3, 1, 1), (3, 2, 0)]\n",
            "[(3, 0, 1), (3, 0, 1), (3, 0, 1), (1, 1, 1), (3, 0, 1)] \t [(3, 3, 1), (1, 1, 0), (3, 0, 0), (3, 1, 0), (3, 3, 0), (3, 2, 1), (2, 2, 1), (2, 2, 0), (3, 1, 1), (3, 2, 0)]\n",
            "[(3, 0, 1), (3, 0, 1), (1, 1, 1), (3, 0, 1)] \t [(3, 3, 1), (1, 1, 0), (3, 0, 0), (3, 1, 0), (3, 3, 0), (3, 2, 1), (2, 2, 1), (3, 0, 1), (2, 2, 0), (3, 1, 1), (3, 2, 0)]\n",
            "[(3, 0, 1), (1, 1, 1), (3, 0, 1)] \t [(3, 3, 1), (1, 1, 0), (3, 0, 0), (3, 1, 0), (3, 3, 0), (3, 2, 1), (2, 2, 1), (3, 0, 1), (2, 2, 0), (3, 1, 1), (3, 2, 0)]\n",
            "[(1, 1, 1), (3, 0, 1)] \t [(3, 3, 1), (1, 1, 0), (3, 0, 0), (3, 1, 0), (3, 3, 0), (3, 2, 1), (2, 2, 1), (3, 0, 1), (2, 2, 0), (3, 1, 1), (3, 2, 0)]\n",
            "[(3, 0, 1), (0, 1, 0), (0, 0, 0)] \t [(3, 3, 1), (1, 1, 0), (3, 0, 0), (3, 1, 0), (3, 3, 0), (3, 2, 1), (2, 2, 1), (3, 0, 1), (1, 1, 1), (2, 2, 0), (3, 1, 1), (3, 2, 0)]\n",
            "[(0, 1, 0), (0, 0, 0)] \t [(3, 3, 1), (1, 1, 0), (3, 0, 0), (3, 1, 0), (3, 3, 0), (3, 2, 1), (2, 2, 1), (3, 0, 1), (1, 1, 1), (2, 2, 0), (3, 1, 1), (3, 2, 0)]\n",
            "[(0, 0, 0), (0, 1, 1), (0, 2, 1), (0, 3, 1)] \t [(3, 3, 1), (1, 1, 0), (0, 1, 0), (3, 0, 0), (3, 1, 0), (3, 3, 0), (3, 2, 1), (2, 2, 1), (3, 0, 1), (1, 1, 1), (2, 2, 0), (3, 1, 1), (3, 2, 0)]\n",
            "Target reached!\n"
          ]
        }
      ]
    },
    {
      "cell_type": "code",
      "source": [
        "# Function to check if a state is valid\n",
        "def is_valid(state):\n",
        "    m, c, b = state\n",
        "    if m < 0 or c < 0 or m > 3 or c > 3 or (c > m and m > 0) or (c < m and m < 3):\n",
        "        return False\n",
        "    return True\n",
        "\n",
        "def is_visited(state, closed_list):\n",
        "    return state in closed_list\n",
        "\n",
        "# Function to perform DFS\n",
        "def dfs(start, goal):\n",
        "    open_list = [start]\n",
        "    closed_list = set()\n",
        "    print(list(open_list),\"\\t\",list(closed_list))\n",
        "    while open_list:\n",
        "        current_state = open_list.pop()\n",
        "\n",
        "\n",
        "        m, c, b = current_state\n",
        "\n",
        "        if current_state == goal:\n",
        "            print(\"Target reached!\")\n",
        "            return\n",
        "\n",
        "        closed_list.add(current_state)\n",
        "\n",
        "        # Generate all possible next states from the current state\n",
        "        next_states = []\n",
        "        for i in range(2):\n",
        "            for j in range(3):\n",
        "                if b == 1:\n",
        "                    next_state = (m - i, c - j, 0)\n",
        "                else:\n",
        "                    next_state = (m + i, c + j, 1)\n",
        "                if is_valid(next_state):\n",
        "                    next_states.append(next_state)\n",
        "\n",
        "        # Add next states to open list if they are valid and not visited yet\n",
        "        for state in next_states:\n",
        "            if not is_visited(state, closed_list):\n",
        "                open_list.append(state)\n",
        "        print(list(open_list),\"\\t\",list(closed_list))\n",
        "\n",
        "# Example\n",
        "start_state = (3, 3, 1)  # Initial state (missionaries, cannibals, boat)\n",
        "goal_state = (0, 0, 0)   # Goal state (missionaries, cannibals, boat)\n",
        "\n",
        "dfs(start_state, goal_state)\n"
      ],
      "metadata": {
        "colab": {
          "base_uri": "https://localhost:8080/"
        },
        "id": "YPm46s7GRUb9",
        "outputId": "afad8b9c-50bf-441c-81b2-2f7a547b88c5"
      },
      "execution_count": 49,
      "outputs": [
        {
          "output_type": "stream",
          "name": "stdout",
          "text": [
            "[(3, 3, 1)] \t []\n",
            "[(3, 3, 0), (3, 2, 0), (3, 1, 0), (2, 2, 0)] \t [(3, 3, 1)]\n",
            "[(3, 3, 0), (3, 2, 0), (3, 1, 0), (2, 2, 1), (3, 2, 1)] \t [(3, 3, 1), (2, 2, 0)]\n",
            "[(3, 3, 0), (3, 2, 0), (3, 1, 0), (2, 2, 1), (3, 2, 0), (3, 1, 0), (3, 0, 0)] \t [(3, 2, 1), (3, 3, 1), (2, 2, 0)]\n",
            "[(3, 3, 0), (3, 2, 0), (3, 1, 0), (2, 2, 1), (3, 2, 0), (3, 1, 0), (3, 0, 1), (3, 1, 1)] \t [(3, 0, 0), (3, 2, 1), (3, 3, 1), (2, 2, 0)]\n",
            "[(3, 3, 0), (3, 2, 0), (3, 1, 0), (2, 2, 1), (3, 2, 0), (3, 1, 0), (3, 0, 1), (3, 1, 0)] \t [(3, 3, 1), (3, 0, 0), (3, 2, 1), (2, 2, 0), (3, 1, 1)]\n",
            "[(3, 3, 0), (3, 2, 0), (3, 1, 0), (2, 2, 1), (3, 2, 0), (3, 1, 0), (3, 0, 1)] \t [(3, 3, 1), (3, 0, 0), (3, 1, 0), (3, 2, 1), (2, 2, 0), (3, 1, 1)]\n",
            "[(3, 3, 0), (3, 2, 0), (3, 1, 0), (2, 2, 1), (3, 2, 0), (3, 1, 0)] \t [(3, 3, 1), (3, 0, 0), (3, 1, 0), (3, 2, 1), (3, 0, 1), (2, 2, 0), (3, 1, 1)]\n",
            "[(3, 3, 0), (3, 2, 0), (3, 1, 0), (2, 2, 1), (3, 2, 0)] \t [(3, 3, 1), (3, 0, 0), (3, 1, 0), (3, 2, 1), (3, 0, 1), (2, 2, 0), (3, 1, 1)]\n",
            "[(3, 3, 0), (3, 2, 0), (3, 1, 0), (2, 2, 1)] \t [(3, 3, 1), (3, 0, 0), (3, 1, 0), (3, 2, 1), (3, 0, 1), (2, 2, 0), (3, 1, 1), (3, 2, 0)]\n",
            "[(3, 3, 0), (3, 2, 0), (3, 1, 0), (1, 1, 0)] \t [(3, 3, 1), (3, 0, 0), (3, 1, 0), (3, 2, 1), (2, 2, 1), (3, 0, 1), (2, 2, 0), (3, 1, 1), (3, 2, 0)]\n",
            "[(3, 3, 0), (3, 2, 0), (3, 1, 0), (1, 1, 1)] \t [(3, 3, 1), (1, 1, 0), (3, 0, 0), (3, 1, 0), (3, 2, 1), (2, 2, 1), (3, 0, 1), (2, 2, 0), (3, 1, 1), (3, 2, 0)]\n",
            "[(3, 3, 0), (3, 2, 0), (3, 1, 0), (0, 1, 0), (0, 0, 0)] \t [(3, 3, 1), (1, 1, 0), (3, 0, 0), (3, 1, 0), (3, 2, 1), (2, 2, 1), (3, 0, 1), (1, 1, 1), (2, 2, 0), (3, 1, 1), (3, 2, 0)]\n",
            "Target reached!\n"
          ]
        }
      ]
    }
  ]
}