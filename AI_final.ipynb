{
  "nbformat": 4,
  "nbformat_minor": 0,
  "metadata": {
    "colab": {
      "provenance": []
    },
    "kernelspec": {
      "name": "python3",
      "display_name": "Python 3"
    },
    "language_info": {
      "name": "python"
    }
  },
  "cells": [
    {
      "cell_type": "code",
      "source": [
        "def bfs(graph, start):\n",
        "    open_list =[start]\n",
        "    closed_list = set()\n",
        "    print(list(open_list),'\\t',list(closed_list))\n",
        "    while open_list:\n",
        "        current_node = open_list.pop(0)\n",
        "        if current_node not in closed_list:\n",
        "            #print(list(closed_list))\n",
        "            closed_list.add(current_node)\n",
        "            for neighbor in graph[current_node]:\n",
        "                if neighbor not in closed_list and neighbor not in open_list:\n",
        "                    open_list.append(neighbor)\n",
        "        print(list(open_list),'\\t',list(closed_list))\n",
        "graph = {\n",
        "    'A': ['B', 'C'],\n",
        "    'B': ['A', 'D', 'E'],\n",
        "    'C': ['A', 'F'],\n",
        "    'D': ['B'],\n",
        "    'E': ['B', 'F'],\n",
        "    'F': ['C', 'E']\n",
        "}\n",
        "\n",
        "start_node = 'A'\n",
        "bfs(graph, start_node)\n"
      ],
      "metadata": {
        "colab": {
          "base_uri": "https://localhost:8080/"
        },
        "id": "XqHqfcF9o7o_",
        "outputId": "b124fc3d-4038-463a-e23a-9522d61d63ee"
      },
      "execution_count": null,
      "outputs": [
        {
          "output_type": "stream",
          "name": "stdout",
          "text": [
            "['A'] \t []\n",
            "['B', 'C'] \t ['A']\n",
            "['C', 'D', 'E'] \t ['A', 'B']\n",
            "['D', 'E', 'F'] \t ['A', 'B', 'C']\n",
            "['E', 'F'] \t ['A', 'B', 'D', 'C']\n",
            "['F'] \t ['B', 'D', 'E', 'A', 'C']\n",
            "[] \t ['F', 'B', 'D', 'E', 'A', 'C']\n"
          ]
        }
      ]
    },
    {
      "cell_type": "code",
      "source": [
        "def dfs(graph, start):\n",
        "    open_list =[start]\n",
        "    closed_list = set()\n",
        "    print(list(open_list),'\\t',list(closed_list))\n",
        "    while open_list:\n",
        "        current_node = open_list.pop()\n",
        "        if current_node not in closed_list:\n",
        "            #print(list(closed_list))\n",
        "            closed_list.add(current_node)\n",
        "            for neighbor in graph[current_node]:\n",
        "                if neighbor not in closed_list and neighbor not in open_list:\n",
        "                    open_list.append(neighbor)\n",
        "        print(list(open_list),'\\t',list(closed_list))\n",
        "graph = {\n",
        "    'A': ['B', 'C'],\n",
        "    'B': ['A', 'D', 'E'],\n",
        "    'C': ['A', 'F'],\n",
        "    'D': ['B'],\n",
        "    'E': ['B', 'F'],\n",
        "    'F': ['C', 'E']\n",
        "}\n",
        "\n",
        "start_node = 'A'\n",
        "dfs(graph, start_node)\n"
      ],
      "metadata": {
        "colab": {
          "base_uri": "https://localhost:8080/"
        },
        "id": "ceZ7reLtqy2z",
        "outputId": "89b270f5-fdee-4433-e71b-e311c5269667"
      },
      "execution_count": null,
      "outputs": [
        {
          "output_type": "stream",
          "name": "stdout",
          "text": [
            "['A'] \t []\n",
            "['B', 'C'] \t ['A']\n",
            "['B', 'F'] \t ['A', 'C']\n",
            "['B', 'E'] \t ['F', 'A', 'C']\n",
            "['B'] \t ['F', 'A', 'E', 'C']\n",
            "['D'] \t ['F', 'B', 'E', 'A', 'C']\n",
            "[] \t ['F', 'B', 'E', 'D', 'A', 'C']\n"
          ]
        }
      ]
    },
    {
      "cell_type": "code",
      "source": [
        "import heapq\n",
        "\n",
        "def ucs(graph, start):\n",
        "    open_list = [(0, start)]\n",
        "    closed_list = set()\n",
        "    print(open_list,'\\t',list(closed_list))\n",
        "    while open_list:\n",
        "        cost, current_node = heapq.heappop(open_list)\n",
        "        if current_node not in closed_list:\n",
        "            closed_list.add(current_node)\n",
        "            for neighbor, edge_cost in graph[current_node].items():\n",
        "                if neighbor not in closed_list and (edge_cost,neighbor) not in open_list:\n",
        "                    heapq.heappush(open_list, (cost + edge_cost, neighbor))\n",
        "        print(open_list,'\\t',list(closed_list))\n",
        "\n",
        "# Example adjacency list graph with weighted edges\n",
        "graph = {\n",
        "    'A': {'B': 1, 'C': 4},\n",
        "    'B': {'A': 1, 'D': 2, 'E': 5},\n",
        "    'C': {'A': 4, 'F': 3},\n",
        "    'D': {'B': 2},\n",
        "    'E': {'B': 5, 'F': 6},\n",
        "    'F': {'C': 3, 'E': 6}\n",
        "}\n",
        "\n",
        "start_node = 'A'\n",
        "ucs(graph, start_node)\n"
      ],
      "metadata": {
        "colab": {
          "base_uri": "https://localhost:8080/"
        },
        "id": "8bKrlSSGt5Ub",
        "outputId": "f4ab030d-61e8-4bae-fec7-222e572935d4"
      },
      "execution_count": null,
      "outputs": [
        {
          "output_type": "stream",
          "name": "stdout",
          "text": [
            "[(0, 'A')] \t []\n",
            "[(1, 'B'), (4, 'C')] \t ['A']\n",
            "[(3, 'D'), (4, 'C'), (6, 'E')] \t ['A', 'B']\n",
            "[(4, 'C'), (6, 'E')] \t ['A', 'B', 'D']\n",
            "[(6, 'E'), (7, 'F')] \t ['A', 'B', 'D', 'C']\n",
            "[(7, 'F'), (12, 'F')] \t ['B', 'D', 'E', 'A', 'C']\n",
            "[(12, 'F')] \t ['F', 'B', 'D', 'E', 'A', 'C']\n",
            "[] \t ['F', 'B', 'D', 'E', 'A', 'C']\n"
          ]
        }
      ]
    },
    {
      "cell_type": "code",
      "source": [
        "def iddfs(graph, start, goal):\n",
        "    depth = 0\n",
        "    while True:\n",
        "        print(\"Depth Limit:\", depth)\n",
        "        open_list = [start]\n",
        "        closed_list = set()\n",
        "        result = dls(graph, start, goal, depth, open_list, closed_list)\n",
        "        if result is not None:\n",
        "            return result\n",
        "        depth += 1\n",
        "\n",
        "def dls(graph, node, goal, depth_limit, open_list, closed_list):\n",
        "    if node == goal:\n",
        "        print(open_list,'\\t',list(closed_list))\n",
        "        return node\n",
        "    if depth_limit <= 0:\n",
        "        print(open_list,'\\t',list(closed_list))\n",
        "        return None\n",
        "    if depth_limit > 0:\n",
        "        for neighbor in graph[node]:\n",
        "            if neighbor not in closed_list and not in open_list:\n",
        "                open_list.append(neighbor)\n",
        "                result = dls(graph, neighbor, goal, depth_limit - 1, open_list, closed_list)\n",
        "                if result is not None:\n",
        "                    return result\n",
        "                open_list.pop()\n",
        "                closed_list.add(neighbor)\n",
        "        print(open_list,'\\t',list(closed_list))\n",
        "        return None\n",
        "\n",
        "graph = {\n",
        "    'A': ['B', 'C'],\n",
        "    'B': ['D', 'E'],\n",
        "    'C': ['F'],\n",
        "    'D': [],\n",
        "    'E': [],\n",
        "    'F': []\n",
        "}\n",
        "\n",
        "start_node = 'A'\n",
        "goal_node = 'F'\n",
        "iddfs(graph, start_node, goal_node)\n"
      ],
      "metadata": {
        "colab": {
          "base_uri": "https://localhost:8080/",
          "height": 226
        },
        "id": "juUmuBd40AZQ",
        "outputId": "83e63a1e-1952-4652-e11d-2892117eddf1"
      },
      "execution_count": null,
      "outputs": [
        {
          "output_type": "stream",
          "name": "stdout",
          "text": [
            "Depth Limit: 0\n",
            "['A'] \t []\n",
            "Depth Limit: 1\n",
            "['A', 'B'] \t []\n",
            "['A', 'C'] \t ['B']\n",
            "['A'] \t ['B', 'C']\n",
            "Depth Limit: 2\n",
            "['A', 'B', 'D'] \t []\n",
            "['A', 'B', 'E'] \t ['D']\n",
            "['A', 'B'] \t ['E', 'D']\n",
            "['A', 'C', 'F'] \t ['B', 'E', 'D']\n"
          ]
        },
        {
          "output_type": "execute_result",
          "data": {
            "text/plain": [
              "'F'"
            ],
            "application/vnd.google.colaboratory.intrinsic+json": {
              "type": "string"
            }
          },
          "metadata": {},
          "execution_count": 28
        }
      ]
    },
    {
      "cell_type": "code",
      "source": [
        "#WATER JUG USING BFS\n",
        "# Function to pour water from one jug to another\n",
        "def pour(jug, max_jug, target_jug):\n",
        "    return max(0, jug - (max_jug - target_jug)), min(jug + target_jug, max_jug)\n",
        "def valid_states(states,jug1_capacity,jug2_capacity):\n",
        "  return [i for i in states if i[0]<= jug1_capacity and i[1] <= jug2_capacity]\n",
        "# Function to perform BFS\n",
        "def bfs(start, target, max_jug1, max_jug2):\n",
        "    open_list = [start]\n",
        "    closed_list = set()\n",
        "    print(open_list,'\\t',list(closed_list))\n",
        "    while open_list:\n",
        "        if target in open_list:\n",
        "            print(\"Target reached!\")\n",
        "            return\n",
        "        current_state = open_list.pop(0)\n",
        "        jug1, jug2 = current_state\n",
        "        closed_list.add(current_state)\n",
        "\n",
        "        # Generate all possible states from the current state\n",
        "        next_states = [\n",
        "            pour(jug1, max_jug1, jug2),  # Pour from jug 1 to jug 2\n",
        "            pour(jug2, max_jug2, jug1),  # Pour from jug 2 to jug 1\n",
        "            (max_jug1, jug2),            # Fill jug 1\n",
        "            (jug1, max_jug2),            # Fill jug 2\n",
        "            (0, jug2),                   # Empty jug 1\n",
        "            (jug1, 0)                    # Empty jug 2\n",
        "        ]\n",
        "        next_states=valid_states(next_states,max_jug1,max_jug2)\n",
        "        # Add next states to open list if they are valid and not visited yet\n",
        "        for state in list(set(next_states)):\n",
        "            if state not in closed_list:\n",
        "                open_list.append(state)\n",
        "        print(open_list,'\\t',list(closed_list))\n",
        "\n",
        "# Example\n",
        "start_state = (0, 0)  # Initial state of both jugs (jug1, jug2)\n",
        "target_state = (2, 0)  # Target state (jug1, jug2)\n",
        "max_jug1 = 5  # Maximum capacity of jug 1\n",
        "max_jug2 = 3  # Maximum capacity of jug 2\n",
        "\n",
        "bfs(start_state, target_state, max_jug1, max_jug2)\n"
      ],
      "metadata": {
        "colab": {
          "base_uri": "https://localhost:8080/"
        },
        "id": "oyTwYFTSCzwA",
        "outputId": "7a2e626c-72b7-4f1c-d472-9e6172deb714"
      },
      "execution_count": 3,
      "outputs": [
        {
          "output_type": "stream",
          "name": "stdout",
          "text": [
            "[(0, 0)] \t []\n",
            "[(0, 3), (5, 0)] \t [(0, 0)]\n",
            "[(5, 0), (5, 3)] \t [(0, 3), (0, 0)]\n",
            "[(5, 3), (2, 3), (5, 3)] \t [(0, 3), (5, 0), (0, 0)]\n",
            "[(2, 3), (5, 3)] \t [(5, 3), (0, 3), (5, 0), (0, 0)]\n",
            "[(5, 3), (2, 0)] \t [(0, 0), (0, 3), (2, 3), (5, 0), (5, 3)]\n",
            "Target reached!\n"
          ]
        }
      ]
    },
    {
      "cell_type": "code",
      "source": [
        "#WATER JUG USING DFS\n",
        "def pour(jug, max_jug, target_jug):\n",
        "    return max(0, jug - (max_jug - target_jug)), min(jug + target_jug, max_jug)\n",
        "def valid_states(states,jug1_capacity,jug2_capacity):\n",
        "  return [i for i in states if i[0]<= jug1_capacity and i[1] <= jug2_capacity]\n",
        "def dfs(start, target, max_jug1, max_jug2):\n",
        "    open_list = [start]\n",
        "    closed_list = set()\n",
        "    print(open_list,'\\t',list(closed_list))\n",
        "    while open_list:\n",
        "        if target in open_list:\n",
        "            print(\"Target reached!\")\n",
        "            return\n",
        "        current_state = open_list.pop()\n",
        "        jug1, jug2 = current_state\n",
        "        closed_list.add(current_state)\n",
        "        next_states = [\n",
        "            pour(jug1, max_jug1, jug2),\n",
        "            pour(jug2, max_jug2, jug1),\n",
        "            (max_jug1, jug2),\n",
        "            (jug1, max_jug2),\n",
        "            (0, jug2),\n",
        "            (jug1, 0)\n",
        "        ]\n",
        "        next_states=valid_states(next_states,max_jug1,max_jug2)\n",
        "        for state in list(set(next_states)):\n",
        "            if state not in closed_list:\n",
        "                open_list.append(state)\n",
        "        print(open_list,'\\t',list(closed_list))\n",
        "\n",
        "start_state = (0, 0)\n",
        "target_state = (2, 0)\n",
        "max_jug1 = 5\n",
        "max_jug2 = 3\n",
        "dfs(start_state, target_state, max_jug1, max_jug2)\n"
      ],
      "metadata": {
        "colab": {
          "base_uri": "https://localhost:8080/"
        },
        "id": "5SCFreCvIiiQ",
        "outputId": "ace85618-ca0b-4ccd-9b65-15f5ed1dba24"
      },
      "execution_count": 5,
      "outputs": [
        {
          "output_type": "stream",
          "name": "stdout",
          "text": [
            "[(0, 0)] \t []\n",
            "[(0, 3), (5, 0)] \t [(0, 0)]\n",
            "[(0, 3), (2, 3), (5, 3)] \t [(5, 0), (0, 0)]\n",
            "[(0, 3), (2, 3), (0, 3)] \t [(5, 3), (5, 0), (0, 0)]\n",
            "[(0, 3), (2, 3)] \t [(5, 3), (0, 3), (5, 0), (0, 0)]\n",
            "[(0, 3), (2, 0)] \t [(0, 0), (0, 3), (2, 3), (5, 0), (5, 3)]\n",
            "Target reached!\n"
          ]
        }
      ]
    },
    {
      "cell_type": "code",
      "source": [
        "def is_valid(state):\n",
        "    m, c, b = state\n",
        "    if m < 0 or c < 0 or m > 3 or c > 3 or (c > m and m > 0) or (c < m and m < 3):\n",
        "        return False\n",
        "    return True\n",
        "def bfs(start, goal):\n",
        "    open_list = [start]\n",
        "    closed_list = set()\n",
        "    print(list(open_list),\"\\t\",list(closed_list))\n",
        "    while open_list:\n",
        "        if goal in open_list:\n",
        "            print(\"Target reached!\")\n",
        "            return\n",
        "        current_state = open_list.pop(0)\n",
        "        m, c, b = current_state\n",
        "        closed_list.add(current_state)\n",
        "\n",
        "        next_states = []\n",
        "        for i in range(2):\n",
        "            for j in range(3):\n",
        "                if b == 1:\n",
        "                    next_state = (m - i, c - j, 0)\n",
        "                else:\n",
        "                    next_state = (m + i, c + j, 1)\n",
        "                if is_valid(next_state):\n",
        "                    next_states.append(next_state)\n",
        "\n",
        "        for state in next_states:\n",
        "            if state not in closed_list and state not in open_list :\n",
        "                open_list.append(state)\n",
        "        print(list(open_list),\"\\t\",list(closed_list))\n",
        "\n",
        "start_state = (3, 3, 1)\n",
        "goal_state = (0, 0, 0)\n",
        "\n",
        "bfs(start_state, goal_state)\n"
      ],
      "metadata": {
        "colab": {
          "base_uri": "https://localhost:8080/"
        },
        "id": "XwtsSPq7OexQ",
        "outputId": "5b82f9e2-a2a5-4529-a333-9a596705c4af"
      },
      "execution_count": 7,
      "outputs": [
        {
          "output_type": "stream",
          "name": "stdout",
          "text": [
            "[(3, 3, 1)] \t []\n",
            "[(3, 3, 0), (3, 2, 0), (3, 1, 0), (2, 2, 0)] \t [(3, 3, 1)]\n",
            "[(3, 2, 0), (3, 1, 0), (2, 2, 0)] \t [(3, 3, 0), (3, 3, 1)]\n",
            "[(3, 1, 0), (2, 2, 0), (3, 2, 1)] \t [(3, 3, 0), (3, 3, 1), (3, 2, 0)]\n",
            "[(2, 2, 0), (3, 2, 1), (3, 1, 1)] \t [(3, 3, 0), (3, 3, 1), (3, 1, 0), (3, 2, 0)]\n",
            "[(3, 2, 1), (3, 1, 1), (2, 2, 1)] \t [(3, 3, 1), (3, 1, 0), (3, 3, 0), (2, 2, 0), (3, 2, 0)]\n",
            "[(3, 1, 1), (2, 2, 1), (3, 0, 0)] \t [(3, 3, 1), (3, 1, 0), (3, 3, 0), (3, 2, 1), (2, 2, 0), (3, 2, 0)]\n",
            "[(2, 2, 1), (3, 0, 0)] \t [(3, 3, 1), (3, 1, 0), (3, 3, 0), (3, 2, 1), (2, 2, 0), (3, 1, 1), (3, 2, 0)]\n",
            "[(3, 0, 0), (1, 1, 0)] \t [(3, 3, 1), (3, 1, 0), (3, 3, 0), (3, 2, 1), (2, 2, 1), (2, 2, 0), (3, 1, 1), (3, 2, 0)]\n",
            "[(1, 1, 0), (3, 0, 1)] \t [(3, 3, 1), (3, 0, 0), (3, 1, 0), (3, 3, 0), (3, 2, 1), (2, 2, 1), (2, 2, 0), (3, 1, 1), (3, 2, 0)]\n",
            "[(3, 0, 1), (1, 1, 1)] \t [(3, 3, 1), (1, 1, 0), (3, 0, 0), (3, 1, 0), (3, 3, 0), (3, 2, 1), (2, 2, 1), (2, 2, 0), (3, 1, 1), (3, 2, 0)]\n",
            "[(1, 1, 1)] \t [(3, 3, 1), (1, 1, 0), (3, 0, 0), (3, 1, 0), (3, 3, 0), (3, 2, 1), (2, 2, 1), (3, 0, 1), (2, 2, 0), (3, 1, 1), (3, 2, 0)]\n",
            "[(0, 1, 0), (0, 0, 0)] \t [(3, 3, 1), (1, 1, 0), (3, 0, 0), (3, 1, 0), (3, 3, 0), (3, 2, 1), (2, 2, 1), (3, 0, 1), (1, 1, 1), (2, 2, 0), (3, 1, 1), (3, 2, 0)]\n",
            "Target reached!\n"
          ]
        }
      ]
    },
    {
      "cell_type": "markdown",
      "source": [
        "**missionaries and c DFS**"
      ],
      "metadata": {
        "id": "b40MVl1v5dIt"
      }
    },
    {
      "cell_type": "code",
      "source": [
        "def is_valid(state):\n",
        "    m, c, b = state\n",
        "    if m < 0 or c < 0 or m > 3 or c > 3 or (c > m and m > 0) or (c < m and m < 3):\n",
        "        return False\n",
        "    return True\n",
        "def dfs(start, goal):\n",
        "    open_list = [start]\n",
        "    closed_list = set()\n",
        "    print(list(open_list),\"\\t\",list(closed_list))\n",
        "    while open_list:\n",
        "        if goal in open_list:\n",
        "            print(\"Target reached!\")\n",
        "            return\n",
        "        current_state = open_list.pop()\n",
        "        m, c, b = current_state\n",
        "        closed_list.add(current_state)\n",
        "\n",
        "        next_states = []\n",
        "        for i in range(2):\n",
        "            for j in range(3):\n",
        "                if b == 1:\n",
        "                    next_state = (m - i, c - j, 0)\n",
        "                else:\n",
        "                    next_state = (m + i, c + j, 1)\n",
        "                if is_valid(next_state):\n",
        "                    next_states.append(next_state)\n",
        "\n",
        "        for state in next_states:\n",
        "            if state not in closed_list and state not in open_list :\n",
        "                open_list.append(state)\n",
        "        print(list(open_list),\"\\t\",list(closed_list))\n",
        "\n",
        "start_state = (3, 3, 1)\n",
        "goal_state = (0, 0, 0)\n",
        "\n",
        "dfs(start_state, goal_state)\n"
      ],
      "metadata": {
        "colab": {
          "base_uri": "https://localhost:8080/"
        },
        "id": "YPm46s7GRUb9",
        "outputId": "69ea610e-ee7e-4cda-934e-a212867aa495"
      },
      "execution_count": 8,
      "outputs": [
        {
          "output_type": "stream",
          "name": "stdout",
          "text": [
            "[(3, 3, 1)] \t []\n",
            "[(3, 3, 0), (3, 2, 0), (3, 1, 0), (2, 2, 0)] \t [(3, 3, 1)]\n",
            "[(3, 3, 0), (3, 2, 0), (3, 1, 0), (2, 2, 1), (3, 2, 1)] \t [(3, 3, 1), (2, 2, 0)]\n",
            "[(3, 3, 0), (3, 2, 0), (3, 1, 0), (2, 2, 1), (3, 0, 0)] \t [(3, 2, 1), (3, 3, 1), (2, 2, 0)]\n",
            "[(3, 3, 0), (3, 2, 0), (3, 1, 0), (2, 2, 1), (3, 0, 1), (3, 1, 1)] \t [(3, 0, 0), (3, 2, 1), (3, 3, 1), (2, 2, 0)]\n",
            "[(3, 3, 0), (3, 2, 0), (3, 1, 0), (2, 2, 1), (3, 0, 1)] \t [(3, 3, 1), (3, 0, 0), (3, 2, 1), (2, 2, 0), (3, 1, 1)]\n",
            "[(3, 3, 0), (3, 2, 0), (3, 1, 0), (2, 2, 1)] \t [(3, 3, 1), (3, 0, 0), (3, 2, 1), (3, 0, 1), (2, 2, 0), (3, 1, 1)]\n",
            "[(3, 3, 0), (3, 2, 0), (3, 1, 0), (1, 1, 0)] \t [(3, 3, 1), (3, 0, 0), (3, 2, 1), (2, 2, 1), (3, 0, 1), (2, 2, 0), (3, 1, 1)]\n",
            "[(3, 3, 0), (3, 2, 0), (3, 1, 0), (1, 1, 1)] \t [(3, 3, 1), (1, 1, 0), (3, 0, 0), (3, 2, 1), (2, 2, 1), (3, 0, 1), (2, 2, 0), (3, 1, 1)]\n",
            "[(3, 3, 0), (3, 2, 0), (3, 1, 0), (0, 1, 0), (0, 0, 0)] \t [(3, 3, 1), (1, 1, 0), (3, 0, 0), (3, 2, 1), (2, 2, 1), (3, 0, 1), (1, 1, 1), (2, 2, 0), (3, 1, 1)]\n",
            "Target reached!\n"
          ]
        }
      ]
    },
    {
      "cell_type": "markdown",
      "source": [
        "**greedy bfs**"
      ],
      "metadata": {
        "id": "OBicM9ea5Pfu"
      }
    },
    {
      "cell_type": "code",
      "source": [
        "import heapq\n",
        "graph = {'0': {('1', 36), ('2', 37), ('3', 32)},\n",
        "         '1': {('4', 38), ('5', 25)},\n",
        "         '2': {('6', 24)},\n",
        "         '3': {('7', 17), ('8', 19)},\n",
        "         '4': {},\n",
        "         '5': {},\n",
        "         '6': {},\n",
        "         '8': {},\n",
        "         '7': {('9', 16)}}\n",
        "\n",
        "h = {'0': 20, '1': 22, '2': 21, '3': 10, '4': 25, '5': 24, '6': 30, '7': 5, '8': 12, '9': 0}\n",
        "def greedy_best_first_search(start, goal, graph, h):\n",
        "    frontier = [(h[start], start)]\n",
        "    path = []\n",
        "    explored = set()\n",
        "    j = 1\n",
        "    while frontier:\n",
        "        _, node = heapq.heappop(frontier)\n",
        "        path.append(node)\n",
        "\n",
        "        if node == goal:\n",
        "            print(\"Goal found\")\n",
        "            return path\n",
        "\n",
        "        if node not in explored:\n",
        "            explored.add(node)\n",
        "            neighbors = [(h[n], n) for n, _ in graph[node]]\n",
        "            heapq.heapify(neighbors)\n",
        "            for _, neighbor in neighbors:\n",
        "                if neighbor not in explored:\n",
        "                    heapq.heappush(frontier, (h[neighbor], neighbor))\n",
        "\n",
        "        print(f\"At step {j} :\")\n",
        "        print(\"Frontier is :\", [n for _, n in frontier])\n",
        "        print(\"Explored is :\", explored)\n",
        "        j += 1\n",
        "\n",
        "    return \"Goal not found\"\n",
        "\n",
        "start = '0'\n",
        "goal = '9'\n",
        "\n",
        "print(greedy_best_first_search(start, goal, graph, h))"
      ],
      "metadata": {
        "colab": {
          "base_uri": "https://localhost:8080/"
        },
        "id": "bY6rBGgWrsV-",
        "outputId": "88894042-bb8b-4d0f-bfb7-22dfd7adc4c0"
      },
      "execution_count": 16,
      "outputs": [
        {
          "output_type": "stream",
          "name": "stdout",
          "text": [
            "At step 1 :\n",
            "Frontier is : ['3', '2', '1']\n",
            "Explored is : {'0'}\n",
            "At step 2 :\n",
            "Frontier is : ['7', '8', '2', '1']\n",
            "Explored is : {'3', '0'}\n",
            "At step 3 :\n",
            "Frontier is : ['9', '8', '2', '1']\n",
            "Explored is : {'3', '7', '0'}\n",
            "Goal found\n",
            "['0', '3', '7', '9']\n"
          ]
        }
      ]
    },
    {
      "cell_type": "markdown",
      "source": [
        "**mini max**"
      ],
      "metadata": {
        "id": "Flf5oujO885g"
      }
    },
    {
      "cell_type": "code",
      "source": [
        "import math\n",
        "def minimax(curDepth, nodeIndex, maxTurn, scores, targetDepth):\n",
        "    if curDepth == targetDepth:\n",
        "        return scores[nodeIndex]\n",
        "\n",
        "    if maxTurn:\n",
        "        return max(minimax(curDepth + 1, nodeIndex * 2, False, scores, targetDepth),\n",
        "                   minimax(curDepth + 1, nodeIndex * 2 + 1, False, scores, targetDepth))\n",
        "    else:\n",
        "        return min(minimax(curDepth + 1, nodeIndex * 2, True, scores, targetDepth),\n",
        "                   minimax(curDepth + 1, nodeIndex * 2 + 1, True, scores, targetDepth))\n",
        "\n",
        "scores = list(map(int,input(\"Enter scores:\").split()))\n",
        "treeDepth = int(math.log(len(scores), 2))\n",
        "\n",
        "print(\"The optimal value is:\", minimax(0, 0, True, scores, treeDepth))\n"
      ],
      "metadata": {
        "colab": {
          "base_uri": "https://localhost:8080/"
        },
        "id": "SWqY6U-w5Nnh",
        "outputId": "03fb371d-51c0-4ef0-b3b3-e8ef7b96efcb"
      },
      "execution_count": 18,
      "outputs": [
        {
          "output_type": "stream",
          "name": "stdout",
          "text": [
            "Enter scores:3 5 2 9\n",
            "The optimal value is: 3\n"
          ]
        }
      ]
    },
    {
      "cell_type": "code",
      "source": [],
      "metadata": {
        "id": "ztpHUiBB_Kml"
      },
      "execution_count": null,
      "outputs": []
    },
    {
      "cell_type": "markdown",
      "source": [
        "**alpha beta**"
      ],
      "metadata": {
        "id": "aS4Rx8Ho_Jjc"
      }
    },
    {
      "cell_type": "code",
      "source": [
        "MAX, MIN = 1000, -1000\n",
        "def minimax(depth, nodeIndex, maximizingPlayer, values, alpha, beta):\n",
        "    if depth == 3:\n",
        "        return values[nodeIndex]\n",
        "    if maximizingPlayer:\n",
        "        best = MIN\n",
        "        for i in range(2):\n",
        "            val = minimax(depth + 1, nodeIndex * 2 + i, False, values, alpha, beta)\n",
        "            best = max(best, val)\n",
        "            alpha = max(alpha, best)\n",
        "            if beta <= alpha:\n",
        "                break\n",
        "        return best\n",
        "    else:\n",
        "        best = MAX\n",
        "        for i in range(2):\n",
        "            val = minimax(depth + 1, nodeIndex * 2 + i, True, values, alpha, beta)\n",
        "            best = min(best, val)\n",
        "            beta = min(beta, best)\n",
        "            if beta <= alpha:\n",
        "                break\n",
        "        return best\n",
        "values = list(map(int,input(\"Enter scores:\").split()))\n",
        "print(\"The optimal value is:\", minimax(0, 0, True, values, MIN, MAX))\n"
      ],
      "metadata": {
        "id": "aJxl4lQR9BLt"
      },
      "execution_count": null,
      "outputs": []
    },
    {
      "cell_type": "markdown",
      "source": [
        "**crypt arithmetic**"
      ],
      "metadata": {
        "id": "L7YAGIOd_OSC"
      }
    },
    {
      "cell_type": "code",
      "source": [
        "import itertools\n",
        "def number(word, digit_map):\n",
        "    return int(''.join(str(digit_map[letter]) for letter in word))\n",
        "def solve_cryptarithmetic(puzzle):\n",
        "    words = puzzle.split()\n",
        "    unique_characters = set(''.join(words))\n",
        "    if len(unique_characters) > 10:\n",
        "        return \"Invalid puzzle: More than 10 unique characters\"\n",
        "    leading_characters = set(word[0] for word in words)\n",
        "    if len(leading_characters) > 2:\n",
        "        return \"Invalid puzzle: More than 2 words start with the same character\"\n",
        "    for digits in itertools.permutations(range(10), len(unique_characters)):\n",
        "        digit_map = dict(zip(unique_characters, digits))\n",
        "        if all(digit_map[word[0]] != 0 for word in leading_characters):\n",
        "            if sum(number(word, digit_map) for word in words[:-1]) == number(words[-1], digit_map):\n",
        "                return digit_map\n",
        "    return \"No solution found\"\n",
        "puzzle = input(\"Enter the cryptarithmetic puzzle (words separated by spaces): \")\n",
        "solution = solve_cryptarithmetic(puzzle)\n",
        "print(\"Solution:\", solution)\n"
      ],
      "metadata": {
        "colab": {
          "base_uri": "https://localhost:8080/"
        },
        "id": "JNdT9BKF-xu5",
        "outputId": "72d9ab31-ec00-435e-c06b-a882fdbf6cde"
      },
      "execution_count": 19,
      "outputs": [
        {
          "output_type": "stream",
          "name": "stdout",
          "text": [
            "Enter the cryptarithmetic puzzle (words separated by spaces): send more money\n",
            "Solution: {'d': 7, 'e': 5, 'o': 0, 's': 9, 'n': 6, 'r': 8, 'y': 2, 'm': 1}\n"
          ]
        }
      ]
    }
  ]
}